{
  "nbformat": 4,
  "nbformat_minor": 0,
  "metadata": {
    "colab": {
      "provenance": [],
      "authorship_tag": "ABX9TyMVt/w4BC9YoumSy2bj5RQL",
      "include_colab_link": true
    },
    "kernelspec": {
      "name": "python3",
      "display_name": "Python 3"
    },
    "language_info": {
      "name": "python"
    }
  },
  "cells": [
    {
      "cell_type": "markdown",
      "metadata": {
        "id": "view-in-github",
        "colab_type": "text"
      },
      "source": [
        "<a href=\"https://colab.research.google.com/github/IgorMatias04/AulaIA10/blob/main/AulaIA_10.ipynb\" target=\"_parent\"><img src=\"https://colab.research.google.com/assets/colab-badge.svg\" alt=\"Open In Colab\"/></a>"
      ]
    },
    {
      "cell_type": "code",
      "source": [
        "from numpy import exp, array, random, dot\n",
        "import numpy as np"
      ],
      "metadata": {
        "id": "W0F2CtOchzg_"
      },
      "execution_count": 2,
      "outputs": []
    },
    {
      "cell_type": "code",
      "source": [
        "entradas_treinamento = array([[0, 0], [0, 1], [1, 0]])\n",
        "\n",
        "saidas_treinamento = array([[0, 1, 1]]).T\n",
        "\n",
        "random.seed(1)\n",
        "\n",
        "pesos_sinapticos = 2 * random.random((2, 1)) - 1"
      ],
      "metadata": {
        "id": "HAoC-ssuh4O9"
      },
      "execution_count": 3,
      "outputs": []
    },
    {
      "cell_type": "code",
      "source": [
        "for epoca in range(100):\n",
        "  saida = 1 / (1 + exp(-(dot(entradas_treinamento, pesos_sinapticos)))) #saídas do neurônio\n",
        "  mudanca_pesos = dot(entradas_treinamento.T, (saidas_treinamento - saida) * saida * (1 - saida))\n",
        "  pesos_sinapticos += mudanca_pesos\n",
        "  print('Mudança nos pesos:', np.linalg.norm(mudanca_pesos))"
      ],
      "metadata": {
        "colab": {
          "base_uri": "https://localhost:8080/"
        },
        "id": "gQI3riUXiBE9",
        "outputId": "fcba80a0-508a-4627-c7e6-a598d7e48540"
      },
      "execution_count": 4,
      "outputs": [
        {
          "output_type": "stream",
          "name": "stdout",
          "text": [
            "Mudança nos pesos: 0.1636237984275818\n",
            "Mudança nos pesos: 0.1533925489381877\n",
            "Mudança nos pesos: 0.14294929699084485\n",
            "Mudança nos pesos: 0.13267731174688704\n",
            "Mudança nos pesos: 0.12286315878718447\n",
            "Mudança nos pesos: 0.11368839269922655\n",
            "Mudança nos pesos: 0.10524375514013246\n",
            "Mudança nos pesos: 0.09755257637773292\n",
            "Mudança nos pesos: 0.09059399608387272\n",
            "Mudança nos pesos: 0.08432164423601368\n",
            "Mudança nos pesos: 0.07867687958886403\n",
            "Mudança nos pesos: 0.07359733075926425\n",
            "Mudança nos pesos: 0.06902195505810015\n",
            "Mudança nos pesos: 0.064893744882245\n",
            "Mudança nos pesos: 0.061160949045095045\n",
            "Mudança nos pesos: 0.05777741097276138\n",
            "Mudança nos pesos: 0.05470241541819115\n",
            "Mudança nos pesos: 0.05190028661977829\n",
            "Mudança nos pesos: 0.04933988234146089\n",
            "Mudança nos pesos: 0.04699406581548045\n",
            "Mudança nos pesos: 0.04483919936249122\n",
            "Mudança nos pesos: 0.04285468072675729\n",
            "Mudança nos pesos: 0.04102253008529243\n",
            "Mudança nos pesos: 0.0393270284842251\n",
            "Mudança nos pesos: 0.037754404744349095\n",
            "Mudança nos pesos: 0.03629256619579506\n",
            "Mudança nos pesos: 0.03493086806196074\n",
            "Mudança nos pesos: 0.033659916386665045\n",
            "Mudança nos pesos: 0.03247139977654036\n",
            "Mudança nos pesos: 0.0313579457360301\n",
            "Mudança nos pesos: 0.03031299790720952\n",
            "Mudança nos pesos: 0.02933071103982572\n",
            "Mudança nos pesos: 0.02840586098426313\n",
            "Mudança nos pesos: 0.027533767412645592\n",
            "Mudança nos pesos: 0.026710227330286527\n",
            "Mudança nos pesos: 0.025931457744718105\n",
            "Mudança nos pesos: 0.02519404611791298\n",
            "Mudança nos pesos: 0.02449490744498122\n",
            "Mudança nos pesos: 0.02383124698534416\n",
            "Mudança nos pesos: 0.023200527825456348\n",
            "Mudança nos pesos: 0.022600442580249954\n",
            "Mudança nos pesos: 0.02202888864766534\n",
            "Mudança nos pesos: 0.02148394652035918\n",
            "Mudança nos pesos: 0.020963860733855328\n",
            "Mudança nos pesos: 0.020467023093460254\n",
            "Mudança nos pesos: 0.0199919578752353\n",
            "Mudança nos pesos: 0.019537308740888017\n",
            "Mudança nos pesos: 0.019101827144015867\n",
            "Mudança nos pesos: 0.0186843620368639\n",
            "Mudança nos pesos: 0.018283850713609367\n",
            "Mudança nos pesos: 0.01789931064895292\n",
            "Mudança nos pesos: 0.017529832210142003\n",
            "Mudança nos pesos: 0.017174572137023496\n",
            "Mudança nos pesos: 0.0168327476987772\n",
            "Mudança nos pesos: 0.016503631447999316\n",
            "Mudança nos pesos: 0.01618654650310166\n",
            "Mudança nos pesos: 0.01588086229883186\n",
            "Mudança nos pesos: 0.015585990752326282\n",
            "Mudança nos pesos: 0.015301382798663206\n",
            "Mudança nos pesos: 0.01502652525554808\n",
            "Mudança nos pesos: 0.014760937981662732\n",
            "Mudança nos pesos: 0.014504171297462185\n",
            "Mudança nos pesos: 0.014255803640894106\n",
            "Mudança nos pesos: 0.014015439433730426\n",
            "Mudança nos pesos: 0.013782707137003048\n",
            "Mudança nos pesos: 0.013557257476482867\n",
            "Mudança nos pesos: 0.013338761821285045\n",
            "Mudança nos pesos: 0.013126910700559704\n",
            "Mudança nos pesos: 0.012921412444876634\n",
            "Mudança nos pesos: 0.012721991940363137\n",
            "Mudança nos pesos: 0.01252838948493063\n",
            "Mudança nos pesos: 0.012340359737053086\n",
            "Mudança nos pesos: 0.012157670748556776\n",
            "Mudança nos pesos: 0.011980103073761338\n",
            "Mudança nos pesos: 0.011807448948093997\n",
            "Mudança nos pesos: 0.011639511529992179\n",
            "Mudança nos pesos: 0.011476104200525715\n",
            "Mudança nos pesos: 0.01131704991571904\n",
            "Mudança nos pesos: 0.01116218060704203\n",
            "Mudança nos pesos: 0.011011336625975822\n",
            "Mudança nos pesos: 0.010864366228948121\n",
            "Mudança nos pesos: 0.010721125099283808\n",
            "Mudança nos pesos: 0.010581475903127377\n",
            "Mudança nos pesos: 0.010445287876575426\n",
            "Mudança nos pesos: 0.010312436441508957\n",
            "Mudança nos pesos: 0.010182802847841845\n",
            "Mudança nos pesos: 0.010056273840105824\n",
            "Mudança nos pesos: 0.009932741346476277\n",
            "Mudança nos pesos: 0.009812102188508419\n",
            "Mudança nos pesos: 0.009694257810004065\n",
            "Mudança nos pesos: 0.009579114023563916\n",
            "Mudança nos pesos: 0.009466580773503487\n",
            "Mudança nos pesos: 0.009356571913921087\n",
            "Mudança nos pesos: 0.009249005000808165\n",
            "Mudança nos pesos: 0.009143801097182557\n",
            "Mudança nos pesos: 0.009040884590309215\n",
            "Mudança nos pesos: 0.008940183020148347\n",
            "Mudança nos pesos: 0.00884162691823931\n",
            "Mudança nos pesos: 0.008745149656292223\n",
            "Mudança nos pesos: 0.00865068730381566\n"
          ]
        }
      ]
    },
    {
      "cell_type": "code",
      "source": [
        "print (1 / (1 + exp(-(dot(array([1, 1]), pesos_sinapticos)))))"
      ],
      "metadata": {
        "colab": {
          "base_uri": "https://localhost:8080/"
        },
        "id": "rzqp8HFbiGHH",
        "outputId": "b8df1571-e8c8-4ac2-ab22-425dc04f006b"
      },
      "execution_count": 5,
      "outputs": [
        {
          "output_type": "stream",
          "name": "stdout",
          "text": [
            "[0.99226594]\n"
          ]
        }
      ]
    }
  ]
}